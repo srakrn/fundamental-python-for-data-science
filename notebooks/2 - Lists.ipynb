{
 "cells": [
  {
   "cell_type": "markdown",
   "metadata": {},
   "source": [
    "*Composed by Sirakorn Lamyai, Kasetsart University*\n",
    "\n",
    "---\n",
    "\n",
    "Lists store collections of values of which the data's types inside can be mixed, and has no fixed length."
   ]
  },
  {
   "cell_type": "code",
   "execution_count": null,
   "metadata": {},
   "outputs": [],
   "source": [
    "a = [1, 2, 3, 4, 5]\n",
    "b = [\"Cats\", \"Dogs\", \"Penguins\", \"Tonkatsu Pieces\"]\n",
    "c = [1, \"1\", True]"
   ]
  },
  {
   "cell_type": "markdown",
   "metadata": {},
   "source": [
    "**Example 1**: Declare a list to represent the following vector:\n",
    "\n",
    "* $[1, 2, 3]$ as vector $a$\n",
    "* $[3, 4, 5]$ as vector $b$\n",
    "\n",
    "Note: It's better for me to denote vector variables as `vec_a` or something like this, but it's totally up to you!\n"
   ]
  },
  {
   "cell_type": "code",
   "execution_count": null,
   "metadata": {},
   "outputs": [],
   "source": [
    "# Write a solution for example 1 here"
   ]
  },
  {
   "cell_type": "markdown",
   "metadata": {},
   "source": [
    "Lists can be nested, that means a list inside a list will create some 2-D, 3-D, ... $n$-D matrix!"
   ]
  },
  {
   "cell_type": "code",
   "execution_count": null,
   "metadata": {},
   "outputs": [],
   "source": [
    "identity_3x3 = [\n",
    "    [1, 0, 0],\n",
    "    [0, 1, 0],\n",
    "    [0, 0, 0]\n",
    "]"
   ]
  },
  {
   "cell_type": "markdown",
   "metadata": {},
   "source": [
    "**Example 2**: Declare a matrix $C$ to represent the following matrix:\n",
    "\n",
    "$$\n",
    "\\begin{bmatrix}\n",
    "1 & 2 & 3\\\\ \n",
    "4 & 5 & 6\\\\ \n",
    "7 & 8 & 9 \n",
    "\\end{bmatrix}\n",
    "$$\n",
    "\n",
    "Note: We don't usually create declare variables with upper case letters inside the name (due to Python's naming convention). It's better for me to name those variables as `mat_c`, but a plain `C` is widely used, and is still okay in some sense."
   ]
  },
  {
   "cell_type": "code",
   "execution_count": null,
   "metadata": {},
   "outputs": [],
   "source": [
    "# Write a solution for example 2 here"
   ]
  },
  {
   "cell_type": "markdown",
   "metadata": {},
   "source": [
    "# Accessing List Elements\n",
    "\n",
    "You can access lists elements by using the index brackets `[]`"
   ]
  },
  {
   "cell_type": "code",
   "execution_count": null,
   "metadata": {},
   "outputs": [],
   "source": [
    "print(\"a[0] = {}\".format(a[0]))\n",
    "print(\"a[2] = {}\".format(a[2]))"
   ]
  },
  {
   "cell_type": "markdown",
   "metadata": {},
   "source": [
    "Negative indexing is available, `a[-1]` means the last element of `a`"
   ]
  },
  {
   "cell_type": "code",
   "execution_count": null,
   "metadata": {},
   "outputs": [],
   "source": [
    "print(\"The last element of b is b[-1] = {}\".format(a[-1]))"
   ]
  },
  {
   "cell_type": "markdown",
   "metadata": {},
   "source": [
    "**Example 3**: Print the value of the second last element in the list representing vector $b$"
   ]
  },
  {
   "cell_type": "code",
   "execution_count": null,
   "metadata": {},
   "outputs": [],
   "source": [
    "# Write a solution for example 3 here"
   ]
  },
  {
   "cell_type": "markdown",
   "metadata": {},
   "source": [
    "For a multidimension lists, index the list for one time will returns the list item at that index"
   ]
  },
  {
   "cell_type": "code",
   "execution_count": null,
   "metadata": {},
   "outputs": [],
   "source": [
    "identity_3x3[0]"
   ]
  },
  {
   "cell_type": "markdown",
   "metadata": {},
   "source": [
    "This is equivalent to indexing the row. By indexing the columns again, we finally obtains the value at a specific position in the nested list."
   ]
  },
  {
   "cell_type": "code",
   "execution_count": null,
   "metadata": {},
   "outputs": [],
   "source": [
    "identity_3x3[0][0]"
   ]
  },
  {
   "cell_type": "markdown",
   "metadata": {},
   "source": [
    "**Example 4**: Index the matrix $C$ so that the obtained value is 6"
   ]
  },
  {
   "cell_type": "code",
   "execution_count": null,
   "metadata": {},
   "outputs": [],
   "source": [
    "# Write a solution for example 4 here"
   ]
  },
  {
   "cell_type": "markdown",
   "metadata": {},
   "source": [
    "You can obtain the list's length with the `len()` command"
   ]
  },
  {
   "cell_type": "code",
   "execution_count": null,
   "metadata": {},
   "outputs": [],
   "source": [
    "elements_in_a = len(a)\n",
    "elements_in_iden = len(identity_3x3)\n",
    "print(\"a has {} elements inside\".format(elements_in_a))\n",
    "print(\"c has {} elements inside\".format(elements_in_iden))"
   ]
  },
  {
   "cell_type": "markdown",
   "metadata": {},
   "source": [
    "**Thinking corner**: `elements_in_iden` represents $3 \\times 3$ matrix, therefore it should consist of 9 elements. Why the results printed above returns 3 as the number of elements in it?"
   ]
  },
  {
   "cell_type": "markdown",
   "metadata": {},
   "source": [
    "_Write your answer to the thinking corner above here:_ ..."
   ]
  },
  {
   "cell_type": "markdown",
   "metadata": {},
   "source": [
    "# List functions\n",
    "\n",
    "*(Please observe the slide)*"
   ]
  }
 ],
 "metadata": {
  "kernelspec": {
   "display_name": "Python 3",
   "language": "python",
   "name": "python3"
  },
  "language_info": {
   "codemirror_mode": {
    "name": "ipython",
    "version": 3
   },
   "file_extension": ".py",
   "mimetype": "text/x-python",
   "name": "python",
   "nbconvert_exporter": "python",
   "pygments_lexer": "ipython3",
   "version": "3.6.8"
  }
 },
 "nbformat": 4,
 "nbformat_minor": 2
}
