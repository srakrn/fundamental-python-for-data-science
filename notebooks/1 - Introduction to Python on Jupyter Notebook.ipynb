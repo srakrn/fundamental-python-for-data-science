{
 "cells": [
  {
   "cell_type": "markdown",
   "metadata": {},
   "source": [
    "*Composed by Sirakorn Lamyai, Kasetsart University*\n",
    "\n",
    "---\n",
    "\n",
    "# Introduction to Jupyter Notebook\n",
    "\n",
    "The file you're opening is called a __Jupyter Notebook__. Let's think of it as a notebook, like the one you grab your favourite pen, and write on it.\n",
    "\n",
    "## Components of the Notebook\n",
    "\n",
    "Every notebook consists of many __cells__, containing either the executable code or the annotation text."
   ]
  },
  {
   "cell_type": "markdown",
   "metadata": {},
   "source": [
    "Try double-clicking [[here]] and see what happens. This is a __Markdown cell__, which you can edit the texts here. The text is formatted in [Markdown](https://daringfireball.net/projects/markdown/)--a simple, straightforward, and elegant markup language.\n",
    "\n",
    "### Running the codes\n",
    "\n",
    "After editing the text, you'll need to run it to see its changes. To run the cell, either press the Run button on the menu bar, or the key combination of `Ctrl`+`Enter`. Running the Markdown cell will do nothing much except from storing the text changes and exit the \"editing\" mode. Just try running this cell to see how it works!"
   ]
  },
  {
   "cell_type": "markdown",
   "metadata": {},
   "source": [
    "The Markdown cell only itself might not be useful. Let's introduce the __code__ cell, where we can write our Python programme!\n",
    "\n",
    "Like the Markdown cell, try running this cell."
   ]
  },
  {
   "cell_type": "code",
   "execution_count": null,
   "metadata": {},
   "outputs": [],
   "source": [
    "print(\"Hello, world.\")"
   ]
  },
  {
   "cell_type": "markdown",
   "metadata": {},
   "source": [
    "Prompts also works here:"
   ]
  },
  {
   "cell_type": "code",
   "execution_count": null,
   "metadata": {},
   "outputs": [],
   "source": [
    "name = input(\"Enter your name: \")\n",
    "print(\"Hello {}!\".format(name))"
   ]
  },
  {
   "cell_type": "markdown",
   "metadata": {},
   "source": [
    "Note that one Jupyter Notebook should be viewed like one large code. The scope of variables doesn't end only in a single cell, but spans across multiple cells.\n",
    "\n",
    "To demonstrate this, we try referencing the variable `name` again."
   ]
  },
  {
   "cell_type": "code",
   "execution_count": null,
   "metadata": {},
   "outputs": [],
   "source": [
    "print(\"Hello again, {}!\".format(name))"
   ]
  }
 ],
 "metadata": {
  "kernelspec": {
   "display_name": "Python 3",
   "language": "python",
   "name": "python3"
  },
  "language_info": {
   "codemirror_mode": {
    "name": "ipython",
    "version": 3
   },
   "file_extension": ".py",
   "mimetype": "text/x-python",
   "name": "python",
   "nbconvert_exporter": "python",
   "pygments_lexer": "ipython3",
   "version": "3.6.8"
  }
 },
 "nbformat": 4,
 "nbformat_minor": 2
}
