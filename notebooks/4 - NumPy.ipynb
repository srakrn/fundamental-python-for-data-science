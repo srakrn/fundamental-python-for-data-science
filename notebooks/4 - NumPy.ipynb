{
 "cells": [
  {
   "cell_type": "markdown",
   "metadata": {
    "colab_type": "text",
    "id": "NutvBzo_VcpT"
   },
   "source": [
    "*Composed by Sirakorn Lamyai, Kasetsart University*\n",
    "\n",
    "---"
   ]
  },
  {
   "cell_type": "markdown",
   "metadata": {
    "colab_type": "text",
    "id": "oQ0wod-gVhw-"
   },
   "source": [
    "# Knowing NumPy\n",
    "\n",
    "NumPy is a powerful mathematical library for Python. The main motivation behind NumPy is the need of a very powerful mathematical data structure with ease in mathematical-like operations\n",
    "\n",
    "One of the examples I do really like is that given a vector $\\vec{u}=2\\hat{i}+3\\hat{j}+4\\hat{k}$ and $\\vec{v}=3\\hat{i}+4\\hat{j}+5\\hat{k}$, we can denote the two vectors in these two lists respectively:"
   ]
  },
  {
   "cell_type": "code",
   "execution_count": 1,
   "metadata": {
    "colab": {
     "autoexec": {
      "startup": false,
      "wait_interval": 0
     }
    },
    "colab_type": "code",
    "id": "SEGIIsVlWJcW"
   },
   "outputs": [],
   "source": [
    "vec_u_list = [2, 3, 4]\n",
    "vec_v_list = [3, 4, 5]"
   ]
  },
  {
   "cell_type": "markdown",
   "metadata": {
    "colab_type": "text",
    "id": "NKe1pZlJWO2V"
   },
   "source": [
    "Suppose we need to find the vector addition $\\vec{u}+\\vec{v}$, our first try is to plus the two lists directly (with the `+` operator)..."
   ]
  },
  {
   "cell_type": "code",
   "execution_count": 2,
   "metadata": {
    "colab": {
     "autoexec": {
      "startup": false,
      "wait_interval": 0
     },
     "base_uri": "https://localhost:8080/",
     "height": 35,
     "output_extras": [
      {
       "item_id": 1
      }
     ]
    },
    "colab_type": "code",
    "executionInfo": {
     "elapsed": 774,
     "status": "ok",
     "timestamp": 1512399008561,
     "user": {
      "displayName": "Sirakorn Lamyai",
      "photoUrl": "//lh4.googleusercontent.com/-wZrHO4ylioI/AAAAAAAAAAI/AAAAAAAAiTI/MHjf1ZzXuz0/s50-c-k-no/photo.jpg",
      "userId": "112598566285839351739"
     },
     "user_tz": -420
    },
    "id": "0l15DZEYWWYI",
    "outputId": "69c713ba-8b24-4836-aee4-c150794a5458"
   },
   "outputs": [
    {
     "data": {
      "text/plain": [
       "[2, 3, 4, 3, 4, 5]"
      ]
     },
     "execution_count": 2,
     "metadata": {},
     "output_type": "execute_result"
    }
   ],
   "source": [
    "vec_u_list + vec_v_list"
   ]
  },
  {
   "cell_type": "markdown",
   "metadata": {
    "colab_type": "text",
    "id": "JvHWV8FqWZ-E"
   },
   "source": [
    "It is noticed that this results into the concatenation of Python lists, an expected behaviour of lists.\n",
    "\n",
    "Not a good try though, let's try it again with the `-` operator:"
   ]
  },
  {
   "cell_type": "code",
   "execution_count": 3,
   "metadata": {},
   "outputs": [
    {
     "ename": "TypeError",
     "evalue": "unsupported operand type(s) for -: 'list' and 'list'",
     "output_type": "error",
     "traceback": [
      "\u001b[0;31m---------------------------------------------------------------------------\u001b[0m",
      "\u001b[0;31mTypeError\u001b[0m                                 Traceback (most recent call last)",
      "\u001b[0;32m<ipython-input-3-640bf4deb779>\u001b[0m in \u001b[0;36m<module>\u001b[0;34m\u001b[0m\n\u001b[0;32m----> 1\u001b[0;31m \u001b[0mvec_u_list\u001b[0m \u001b[0;34m-\u001b[0m \u001b[0mvec_v_list\u001b[0m\u001b[0;34m\u001b[0m\u001b[0;34m\u001b[0m\u001b[0m\n\u001b[0m",
      "\u001b[0;31mTypeError\u001b[0m: unsupported operand type(s) for -: 'list' and 'list'"
     ]
    }
   ],
   "source": [
    "vec_u_list - vec_v_list"
   ]
  },
  {
   "cell_type": "markdown",
   "metadata": {},
   "source": [
    "What happened?"
   ]
  },
  {
   "cell_type": "markdown",
   "metadata": {},
   "source": [
    "__Thinking corner__: Why is this expected in Python? Why doesn't the standard is written is a fashion that the `+` and `-` operator will add and subtract the values respectively, index-wise?"
   ]
  },
  {
   "cell_type": "markdown",
   "metadata": {
    "colab_type": "text",
    "id": "papRVyISWeIQ"
   },
   "source": [
    "# Importing NumPy\n",
    "\n",
    "## Python imports\n",
    "\n",
    "Many libraries aren't built-in directly into Python. Not only that such libraries should be installed manually, but also that they need to be imported prior to using them.\n",
    "\n",
    "We could import the NumPy library as follows, straightforwardly:"
   ]
  },
  {
   "cell_type": "code",
   "execution_count": 4,
   "metadata": {
    "colab": {
     "autoexec": {
      "startup": false,
      "wait_interval": 0
     }
    },
    "colab_type": "code",
    "id": "LLKEvKybWkuc"
   },
   "outputs": [],
   "source": [
    "import numpy"
   ]
  },
  {
   "cell_type": "markdown",
   "metadata": {
    "colab_type": "text",
    "id": "pmh3SYArWo5Q"
   },
   "source": [
    "However, every time the elements from the NumPy library is used, we must explicitly refre that we're trying to use the function from the NumPy library, for example:"
   ]
  },
  {
   "cell_type": "code",
   "execution_count": 5,
   "metadata": {},
   "outputs": [],
   "source": [
    "# Don't worry if you don't understand this!\n",
    "_ = numpy.linspace(1, 10)"
   ]
  },
  {
   "cell_type": "markdown",
   "metadata": {},
   "source": [
    "Typing `numpy` for several times is not fun. We could import NumPy with a shorthand `import ... as ...` syntax:"
   ]
  },
  {
   "cell_type": "code",
   "execution_count": 6,
   "metadata": {},
   "outputs": [],
   "source": [
    "import numpy as np"
   ]
  },
  {
   "cell_type": "markdown",
   "metadata": {},
   "source": [
    "And we could refer to NumPy as shortly as `np`!"
   ]
  },
  {
   "cell_type": "code",
   "execution_count": 7,
   "metadata": {},
   "outputs": [],
   "source": [
    "# Totally equivalent to second above cell\n",
    "_ = np.linspace(1, 10)"
   ]
  },
  {
   "cell_type": "markdown",
   "metadata": {},
   "source": [
    "However, to cause less confusion, we're going to use the full `numpy` name, at least in this notebook."
   ]
  },
  {
   "cell_type": "markdown",
   "metadata": {
    "colab_type": "text",
    "id": "hgm8MYEwWyeR"
   },
   "source": [
    "## numpy.array"
   ]
  },
  {
   "cell_type": "markdown",
   "metadata": {
    "colab_type": "text",
    "id": "Qv2ITBB0W2c7"
   },
   "source": [
    "NumPy comes with a object type called __NumPy array__. We can simply convert any lists to NumPy array by calling `numpy.array()` around the value to be converted."
   ]
  },
  {
   "cell_type": "code",
   "execution_count": 8,
   "metadata": {
    "colab": {
     "autoexec": {
      "startup": false,
      "wait_interval": 0
     }
    },
    "colab_type": "code",
    "id": "roOXxHOkXFXx"
   },
   "outputs": [],
   "source": [
    "vec_u = numpy.array(vec_u_list)\n",
    "vec_v = numpy.array(vec_v_list)"
   ]
  },
  {
   "cell_type": "markdown",
   "metadata": {},
   "source": [
    "Let's check out on how the vector $\\hat{u}$ is like"
   ]
  },
  {
   "cell_type": "code",
   "execution_count": 9,
   "metadata": {},
   "outputs": [
    {
     "data": {
      "text/plain": [
       "array([2, 3, 4])"
      ]
     },
     "execution_count": 9,
     "metadata": {},
     "output_type": "execute_result"
    }
   ],
   "source": [
    "vec_u"
   ]
  },
  {
   "cell_type": "markdown",
   "metadata": {},
   "source": [
    "...also check its type"
   ]
  },
  {
   "cell_type": "code",
   "execution_count": 10,
   "metadata": {},
   "outputs": [
    {
     "data": {
      "text/plain": [
       "numpy.ndarray"
      ]
     },
     "execution_count": 10,
     "metadata": {},
     "output_type": "execute_result"
    }
   ],
   "source": [
    "type(vec_u)"
   ]
  },
  {
   "cell_type": "markdown",
   "metadata": {
    "colab_type": "text",
    "id": "lcpG3d4oXMYp"
   },
   "source": [
    "## NumPy array's mathematical operation\n",
    "\n",
    "By adding `vec_u` and `vec_v` together..."
   ]
  },
  {
   "cell_type": "code",
   "execution_count": 11,
   "metadata": {
    "colab": {
     "autoexec": {
      "startup": false,
      "wait_interval": 0
     },
     "base_uri": "https://localhost:8080/",
     "height": 35,
     "output_extras": [
      {
       "item_id": 1
      }
     ]
    },
    "colab_type": "code",
    "executionInfo": {
     "elapsed": 781,
     "status": "ok",
     "timestamp": 1512399011548,
     "user": {
      "displayName": "Sirakorn Lamyai",
      "photoUrl": "//lh4.googleusercontent.com/-wZrHO4ylioI/AAAAAAAAAAI/AAAAAAAAiTI/MHjf1ZzXuz0/s50-c-k-no/photo.jpg",
      "userId": "112598566285839351739"
     },
     "user_tz": -420
    },
    "id": "s3BV-qjwXQuL",
    "outputId": "104a9451-ab65-4d63-a4bc-cc30ab96c31d"
   },
   "outputs": [
    {
     "data": {
      "text/plain": [
       "array([5, 7, 9])"
      ]
     },
     "execution_count": 11,
     "metadata": {},
     "output_type": "execute_result"
    }
   ],
   "source": [
    "vec_u + vec_v"
   ]
  },
  {
   "cell_type": "markdown",
   "metadata": {
    "colab_type": "text",
    "id": "IyXZJwBtXTgv"
   },
   "source": [
    "... we found out that the result of $\\vec{u}+\\vec{v}$ is an element-wise addition as intended for vector addition. It could therefore be implied that `numpy.array` was designed for mathematical use as its very first purpose.\n",
    "\n",
    "Not only that `numpy.array` has an element-wise addition, the other operators `-`, `*`, `/`, and `%` operated on `numpy.array` will result in the element-wise calculations!"
   ]
  },
  {
   "cell_type": "code",
   "execution_count": 12,
   "metadata": {
    "colab": {
     "autoexec": {
      "startup": false,
      "wait_interval": 0
     },
     "base_uri": "https://localhost:8080/",
     "height": 35,
     "output_extras": [
      {
       "item_id": 1
      }
     ]
    },
    "colab_type": "code",
    "executionInfo": {
     "elapsed": 735,
     "status": "ok",
     "timestamp": 1512399012575,
     "user": {
      "displayName": "Sirakorn Lamyai",
      "photoUrl": "//lh4.googleusercontent.com/-wZrHO4ylioI/AAAAAAAAAAI/AAAAAAAAiTI/MHjf1ZzXuz0/s50-c-k-no/photo.jpg",
      "userId": "112598566285839351739"
     },
     "user_tz": -420
    },
    "id": "wKaCxszjX0GC",
    "outputId": "0bb0280a-6d48-4423-86e7-dc5579b0b3d8"
   },
   "outputs": [
    {
     "data": {
      "text/plain": [
       "array([2, 3, 4])"
      ]
     },
     "execution_count": 12,
     "metadata": {},
     "output_type": "execute_result"
    }
   ],
   "source": [
    "vec_u"
   ]
  },
  {
   "cell_type": "code",
   "execution_count": 13,
   "metadata": {
    "colab": {
     "autoexec": {
      "startup": false,
      "wait_interval": 0
     },
     "base_uri": "https://localhost:8080/",
     "height": 35,
     "output_extras": [
      {
       "item_id": 1
      }
     ]
    },
    "colab_type": "code",
    "executionInfo": {
     "elapsed": 664,
     "status": "ok",
     "timestamp": 1512399013427,
     "user": {
      "displayName": "Sirakorn Lamyai",
      "photoUrl": "//lh4.googleusercontent.com/-wZrHO4ylioI/AAAAAAAAAAI/AAAAAAAAiTI/MHjf1ZzXuz0/s50-c-k-no/photo.jpg",
      "userId": "112598566285839351739"
     },
     "user_tz": -420
    },
    "id": "xveAoNDXYGVB",
    "outputId": "2e534181-c9c1-432d-8cad-19da912d7ca0"
   },
   "outputs": [
    {
     "data": {
      "text/plain": [
       "array([4, 5, 6])"
      ]
     },
     "execution_count": 13,
     "metadata": {},
     "output_type": "execute_result"
    }
   ],
   "source": [
    "vec_u + 2"
   ]
  },
  {
   "cell_type": "code",
   "execution_count": 14,
   "metadata": {
    "colab": {
     "autoexec": {
      "startup": false,
      "wait_interval": 0
     },
     "base_uri": "https://localhost:8080/",
     "height": 35,
     "output_extras": [
      {
       "item_id": 1
      }
     ]
    },
    "colab_type": "code",
    "executionInfo": {
     "elapsed": 814,
     "status": "ok",
     "timestamp": 1512399014437,
     "user": {
      "displayName": "Sirakorn Lamyai",
      "photoUrl": "//lh4.googleusercontent.com/-wZrHO4ylioI/AAAAAAAAAAI/AAAAAAAAiTI/MHjf1ZzXuz0/s50-c-k-no/photo.jpg",
      "userId": "112598566285839351739"
     },
     "user_tz": -420
    },
    "id": "bCtyMGMJYHXr",
    "outputId": "0f4453c9-c372-41cd-b569-51dc70bfc941"
   },
   "outputs": [
    {
     "data": {
      "text/plain": [
       "array([ 6,  9, 12])"
      ]
     },
     "execution_count": 14,
     "metadata": {},
     "output_type": "execute_result"
    }
   ],
   "source": [
    "vec_u * 3"
   ]
  },
  {
   "cell_type": "markdown",
   "metadata": {},
   "source": [
    "__Example 1__: Find the calculation of the vector $2\\hat{u}-v$"
   ]
  },
  {
   "cell_type": "code",
   "execution_count": 15,
   "metadata": {},
   "outputs": [],
   "source": [
    "# Write a solution for example 1 here"
   ]
  },
  {
   "cell_type": "markdown",
   "metadata": {
    "colab_type": "text",
    "id": "Z8j-iDwVYQUt"
   },
   "source": [
    "## `numpy.arange()`\n",
    "\n",
    "We can use a command `numpy.arange()` to create a range equivalent to Python's `range()` fuctions.\n",
    "\n",
    "If you're not familiar with Python's `range()` function, its syntax is `range(start, exclusive stop, step)`"
   ]
  },
  {
   "cell_type": "code",
   "execution_count": 16,
   "metadata": {
    "colab": {
     "autoexec": {
      "startup": false,
      "wait_interval": 0
     },
     "base_uri": "https://localhost:8080/",
     "height": 52,
     "output_extras": [
      {
       "item_id": 1
      }
     ]
    },
    "colab_type": "code",
    "executionInfo": {
     "elapsed": 703,
     "status": "ok",
     "timestamp": 1512399015322,
     "user": {
      "displayName": "Sirakorn Lamyai",
      "photoUrl": "//lh4.googleusercontent.com/-wZrHO4ylioI/AAAAAAAAAAI/AAAAAAAAiTI/MHjf1ZzXuz0/s50-c-k-no/photo.jpg",
      "userId": "112598566285839351739"
     },
     "user_tz": -420
    },
    "id": "nXf7FpptYbDe",
    "outputId": "e710c088-9312-4734-9d45-cb6912448b08"
   },
   "outputs": [
    {
     "data": {
      "text/plain": [
       "array([1. , 1.2, 1.4, 1.6, 1.8, 2. , 2.2, 2.4, 2.6, 2.8, 3. , 3.2, 3.4,\n",
       "       3.6, 3.8, 4. , 4.2, 4.4, 4.6, 4.8])"
      ]
     },
     "execution_count": 16,
     "metadata": {},
     "output_type": "execute_result"
    }
   ],
   "source": [
    "# Creates a range, starting from 5, stopping exclusively at 5,\n",
    "# and increases with a step of 0.2\n",
    "numpy.arange(1, 5, 0.2)"
   ]
  },
  {
   "cell_type": "markdown",
   "metadata": {},
   "source": [
    "## numpy.linspace()\n",
    "\n",
    "`numpy.linspace(start, stop, n)` creates an array starting from `start`, stopping __inclusively__ at `stop`, with `n` amounts of data points in the array."
   ]
  },
  {
   "cell_type": "code",
   "execution_count": 17,
   "metadata": {},
   "outputs": [
    {
     "data": {
      "text/plain": [
       "array([ 0.,  1.,  2.,  3.,  4.,  5.,  6.,  7.,  8.,  9., 10.])"
      ]
     },
     "execution_count": 17,
     "metadata": {},
     "output_type": "execute_result"
    }
   ],
   "source": [
    "# Creates a range, starting from 0, stopping inclusively at 10,\n",
    "# with 11 elements inside the list\n",
    "numpy.linspace(0, 10, 11)"
   ]
  },
  {
   "cell_type": "markdown",
   "metadata": {},
   "source": [
    "__Example 2__: Create an array using `numpy.linspace` which is eqivalent to `numpy.arange(1, 5, 0.2)`"
   ]
  },
  {
   "cell_type": "code",
   "execution_count": 18,
   "metadata": {},
   "outputs": [],
   "source": [
    "# Write a solution for example 2 here"
   ]
  },
  {
   "cell_type": "markdown",
   "metadata": {},
   "source": [
    "__Example 3__: Create an array using `numpy.arange` which is eqivalent to `numpy.linspace(0, 10, 11)`"
   ]
  },
  {
   "cell_type": "code",
   "execution_count": 19,
   "metadata": {},
   "outputs": [],
   "source": [
    "# Write a solution for example 3 here"
   ]
  },
  {
   "cell_type": "markdown",
   "metadata": {
    "colab_type": "text",
    "id": "xanRqXrgYMzF"
   },
   "source": [
    "## Multidimensional array\n",
    "\n",
    "NumPy arrays don't limit up to only one dimension arrays. They can be used to create multidimensional arrays. This is an example for creating a 2D array, representing a matrix."
   ]
  },
  {
   "cell_type": "code",
   "execution_count": 20,
   "metadata": {
    "colab": {
     "autoexec": {
      "startup": false,
      "wait_interval": 0
     },
     "base_uri": "https://localhost:8080/",
     "height": 70,
     "output_extras": [
      {
       "item_id": 1
      }
     ]
    },
    "colab_type": "code",
    "executionInfo": {
     "elapsed": 691,
     "status": "ok",
     "timestamp": 1512399016353,
     "user": {
      "displayName": "Sirakorn Lamyai",
      "photoUrl": "//lh4.googleusercontent.com/-wZrHO4ylioI/AAAAAAAAAAI/AAAAAAAAiTI/MHjf1ZzXuz0/s50-c-k-no/photo.jpg",
      "userId": "112598566285839351739"
     },
     "user_tz": -420
    },
    "id": "n-u40y-2Y0MA",
    "outputId": "21c42be4-e212-4ff6-d647-b8b026b7e21a"
   },
   "outputs": [
    {
     "data": {
      "text/plain": [
       "array([[1, 2, 3],\n",
       "       [4, 5, 6],\n",
       "       [7, 8, 9]])"
      ]
     },
     "execution_count": 20,
     "metadata": {},
     "output_type": "execute_result"
    }
   ],
   "source": [
    "mat_a = numpy.array([\n",
    "    [1, 2, 3],\n",
    "    [4, 5, 6],\n",
    "    [7, 8, 9]\n",
    "])\n",
    "mat_a"
   ]
  },
  {
   "cell_type": "markdown",
   "metadata": {
    "colab_type": "text",
    "id": "OOVKmobbZLvn"
   },
   "source": [
    "### Array generators\n",
    "\n",
    "We can create numpy arrays of zeros with `numpy.zeros()`..."
   ]
  },
  {
   "cell_type": "code",
   "execution_count": 21,
   "metadata": {
    "colab": {
     "autoexec": {
      "startup": false,
      "wait_interval": 0
     },
     "base_uri": "https://localhost:8080/",
     "height": 52,
     "output_extras": [
      {
       "item_id": 1
      }
     ]
    },
    "colab_type": "code",
    "executionInfo": {
     "elapsed": 686,
     "status": "ok",
     "timestamp": 1512399017264,
     "user": {
      "displayName": "Sirakorn Lamyai",
      "photoUrl": "//lh4.googleusercontent.com/-wZrHO4ylioI/AAAAAAAAAAI/AAAAAAAAiTI/MHjf1ZzXuz0/s50-c-k-no/photo.jpg",
      "userId": "112598566285839351739"
     },
     "user_tz": -420
    },
    "id": "x8k3-Hp_ZTkg",
    "outputId": "e9fe182a-9ef7-4ea2-d237-20d982e43d5d"
   },
   "outputs": [
    {
     "data": {
      "text/plain": [
       "array([[0., 0., 0.],\n",
       "       [0., 0., 0.]])"
      ]
     },
     "execution_count": 21,
     "metadata": {},
     "output_type": "execute_result"
    }
   ],
   "source": [
    "# Creates array of zeros with [2, 3] as its size\n",
    "numpy.zeros([2, 3])"
   ]
  },
  {
   "cell_type": "markdown",
   "metadata": {
    "colab_type": "text",
    "id": "dhT78xdVZeHk"
   },
   "source": [
    "...and create arrays of ones in the same manner with `numpy.ones()`"
   ]
  },
  {
   "cell_type": "code",
   "execution_count": 22,
   "metadata": {
    "colab": {
     "autoexec": {
      "startup": false,
      "wait_interval": 0
     },
     "base_uri": "https://localhost:8080/",
     "height": 88,
     "output_extras": [
      {
       "item_id": 1
      }
     ]
    },
    "colab_type": "code",
    "executionInfo": {
     "elapsed": 896,
     "status": "ok",
     "timestamp": 1512399018362,
     "user": {
      "displayName": "Sirakorn Lamyai",
      "photoUrl": "//lh4.googleusercontent.com/-wZrHO4ylioI/AAAAAAAAAAI/AAAAAAAAiTI/MHjf1ZzXuz0/s50-c-k-no/photo.jpg",
      "userId": "112598566285839351739"
     },
     "user_tz": -420
    },
    "id": "439AHKfkZjIU",
    "outputId": "c9bacf10-26db-42e9-fd66-da96e9124fa6"
   },
   "outputs": [
    {
     "data": {
      "text/plain": [
       "array([[1., 1., 1., 1., 1.],\n",
       "       [1., 1., 1., 1., 1.],\n",
       "       [1., 1., 1., 1., 1.],\n",
       "       [1., 1., 1., 1., 1.]])"
      ]
     },
     "execution_count": 22,
     "metadata": {},
     "output_type": "execute_result"
    }
   ],
   "source": [
    "# Creates array of zeros with [4, 5] as its size\n",
    "numpy.ones([4, 5])"
   ]
  },
  {
   "cell_type": "markdown",
   "metadata": {
    "colab_type": "text",
    "id": "aaTvORyHZpK7"
   },
   "source": [
    "`numpy.identity(n)` creates an identity matrix of $n \\times n$"
   ]
  },
  {
   "cell_type": "code",
   "execution_count": 23,
   "metadata": {
    "colab": {
     "autoexec": {
      "startup": false,
      "wait_interval": 0
     },
     "base_uri": "https://localhost:8080/",
     "height": 88,
     "output_extras": [
      {
       "item_id": 1
      }
     ]
    },
    "colab_type": "code",
    "executionInfo": {
     "elapsed": 930,
     "status": "ok",
     "timestamp": 1512399019628,
     "user": {
      "displayName": "Sirakorn Lamyai",
      "photoUrl": "//lh4.googleusercontent.com/-wZrHO4ylioI/AAAAAAAAAAI/AAAAAAAAiTI/MHjf1ZzXuz0/s50-c-k-no/photo.jpg",
      "userId": "112598566285839351739"
     },
     "user_tz": -420
    },
    "id": "zPMObXBTZ3j4",
    "outputId": "a9bb66f9-b027-4672-d4f5-cb5bde9cd509"
   },
   "outputs": [
    {
     "data": {
      "text/plain": [
       "array([[1., 0., 0., 0.],\n",
       "       [0., 1., 0., 0.],\n",
       "       [0., 0., 1., 0.],\n",
       "       [0., 0., 0., 1.]])"
      ]
     },
     "execution_count": 23,
     "metadata": {},
     "output_type": "execute_result"
    }
   ],
   "source": [
    "numpy.identity(4)"
   ]
  },
  {
   "cell_type": "markdown",
   "metadata": {},
   "source": [
    "### Getting NumPy arrays' shapes"
   ]
  },
  {
   "cell_type": "markdown",
   "metadata": {},
   "source": [
    "The shapes of NumPy arrays could be easily obtained with the `.shape` property"
   ]
  },
  {
   "cell_type": "code",
   "execution_count": 24,
   "metadata": {},
   "outputs": [
    {
     "data": {
      "text/plain": [
       "(3,)"
      ]
     },
     "execution_count": 24,
     "metadata": {},
     "output_type": "execute_result"
    }
   ],
   "source": [
    "vec_u.shape"
   ]
  },
  {
   "cell_type": "code",
   "execution_count": 25,
   "metadata": {},
   "outputs": [
    {
     "data": {
      "text/plain": [
       "(3, 3)"
      ]
     },
     "execution_count": 25,
     "metadata": {},
     "output_type": "execute_result"
    }
   ],
   "source": [
    "mat_a.shape"
   ]
  },
  {
   "cell_type": "markdown",
   "metadata": {},
   "source": [
    "__Thinking corner__: What are the differences between Python's built-in lists and NumPy arrays that makes the `.shape` property built-in into NumPy, but not Python's lists?"
   ]
  },
  {
   "cell_type": "markdown",
   "metadata": {
    "colab_type": "text",
    "id": "4rX-vTUNaCar"
   },
   "source": [
    "## Slicing NumPy arrays"
   ]
  },
  {
   "cell_type": "markdown",
   "metadata": {
    "colab_type": "text",
    "id": "BE2bMCBWaHVx"
   },
   "source": [
    "Let $B$ be the following matrix:"
   ]
  },
  {
   "cell_type": "code",
   "execution_count": 26,
   "metadata": {
    "colab": {
     "autoexec": {
      "startup": false,
      "wait_interval": 0
     }
    },
    "colab_type": "code",
    "id": "mUrQFpD_aNjm"
   },
   "outputs": [],
   "source": [
    "mat_b = numpy.array([\n",
    "    [0.0, 0.1, 0.2, 0.3, 0.4],\n",
    "    [1.0, 1.1, 1.2, 1.3, 1.4],\n",
    "    [2.0, 2.1, 2.2, 2.3, 2.4],\n",
    "    [3.0, 3.1, 3.2, 3.3, 3.4],\n",
    "    [4.0, 4.1, 4.2, 4.3, 4.4]\n",
    "])"
   ]
  },
  {
   "cell_type": "markdown",
   "metadata": {},
   "source": [
    "We can slice the NumPy arrays as usual. The slicing below will select only a specific rows."
   ]
  },
  {
   "cell_type": "code",
   "execution_count": 27,
   "metadata": {
    "colab": {
     "autoexec": {
      "startup": false,
      "wait_interval": 0
     },
     "base_uri": "https://localhost:8080/",
     "height": 52,
     "output_extras": [
      {
       "item_id": 1
      }
     ]
    },
    "colab_type": "code",
    "executionInfo": {
     "elapsed": 733,
     "status": "ok",
     "timestamp": 1512399021400,
     "user": {
      "displayName": "Sirakorn Lamyai",
      "photoUrl": "//lh4.googleusercontent.com/-wZrHO4ylioI/AAAAAAAAAAI/AAAAAAAAiTI/MHjf1ZzXuz0/s50-c-k-no/photo.jpg",
      "userId": "112598566285839351739"
     },
     "user_tz": -420
    },
    "id": "l2VTRLLwaktV",
    "outputId": "f98d2040-1b17-4678-ef72-37aff008fe0b"
   },
   "outputs": [
    {
     "data": {
      "text/plain": [
       "array([[0. , 0.1, 0.2, 0.3, 0.4],\n",
       "       [1. , 1.1, 1.2, 1.3, 1.4]])"
      ]
     },
     "execution_count": 27,
     "metadata": {},
     "output_type": "execute_result"
    }
   ],
   "source": [
    "mat_b[0:2]"
   ]
  },
  {
   "cell_type": "markdown",
   "metadata": {
    "colab_type": "text",
    "id": "xomHJX6SapzC"
   },
   "source": [
    "However, we can slice in the second dimension using the `,` dimension separator!"
   ]
  },
  {
   "cell_type": "code",
   "execution_count": 28,
   "metadata": {
    "colab": {
     "autoexec": {
      "startup": false,
      "wait_interval": 0
     },
     "base_uri": "https://localhost:8080/",
     "height": 52,
     "output_extras": [
      {
       "item_id": 1
      }
     ]
    },
    "colab_type": "code",
    "executionInfo": {
     "elapsed": 887,
     "status": "ok",
     "timestamp": 1512399022488,
     "user": {
      "displayName": "Sirakorn Lamyai",
      "photoUrl": "//lh4.googleusercontent.com/-wZrHO4ylioI/AAAAAAAAAAI/AAAAAAAAiTI/MHjf1ZzXuz0/s50-c-k-no/photo.jpg",
      "userId": "112598566285839351739"
     },
     "user_tz": -420
    },
    "id": "Q_UaILfRavjJ",
    "outputId": "d45168a7-bd55-4ec9-93e7-e2d7c5e8ab34"
   },
   "outputs": [
    {
     "data": {
      "text/plain": [
       "array([[0.1, 0.2, 0.3],\n",
       "       [1.1, 1.2, 1.3]])"
      ]
     },
     "execution_count": 28,
     "metadata": {},
     "output_type": "execute_result"
    }
   ],
   "source": [
    "mat_b[0:2, 1:4]"
   ]
  },
  {
   "cell_type": "markdown",
   "metadata": {
    "colab_type": "text",
    "id": "A-QjxmT3dsc0"
   },
   "source": [
    "We can also index the values multidimensionally!"
   ]
  },
  {
   "cell_type": "code",
   "execution_count": 29,
   "metadata": {
    "colab": {
     "autoexec": {
      "startup": false,
      "wait_interval": 0
     },
     "base_uri": "https://localhost:8080/",
     "height": 35,
     "output_extras": [
      {
       "item_id": 1
      }
     ]
    },
    "colab_type": "code",
    "executionInfo": {
     "elapsed": 676,
     "status": "ok",
     "timestamp": 1512399023376,
     "user": {
      "displayName": "Sirakorn Lamyai",
      "photoUrl": "//lh4.googleusercontent.com/-wZrHO4ylioI/AAAAAAAAAAI/AAAAAAAAiTI/MHjf1ZzXuz0/s50-c-k-no/photo.jpg",
      "userId": "112598566285839351739"
     },
     "user_tz": -420
    },
    "id": "V-eUAzRmd3Ki",
    "outputId": "1e1b84af-4951-40af-fec6-8592824670f6"
   },
   "outputs": [
    {
     "data": {
      "text/plain": [
       "3.4"
      ]
     },
     "execution_count": 29,
     "metadata": {},
     "output_type": "execute_result"
    }
   ],
   "source": [
    "mat_b[3, 4]"
   ]
  },
  {
   "cell_type": "markdown",
   "metadata": {},
   "source": [
    "__Example 4__: Slice the matrix $B$ such that the output is equal to this matrix:\n",
    "\n",
    "$$\n",
    "\\begin{bmatrix}\n",
    "    2.2 & 2.3 & 2.4\\\\\n",
    "    3.2 & 3.3 & 3.4\n",
    "\\end{bmatrix}\n",
    "$$"
   ]
  },
  {
   "cell_type": "code",
   "execution_count": 30,
   "metadata": {},
   "outputs": [],
   "source": [
    "# Write a solution for example 4 here"
   ]
  },
  {
   "cell_type": "markdown",
   "metadata": {
    "colab_type": "text",
    "id": "pdG4M6B7hEFI"
   },
   "source": [
    "We can flatten the multidimensional array into a 1D array with the `ravel()` method:"
   ]
  },
  {
   "cell_type": "code",
   "execution_count": 31,
   "metadata": {
    "colab": {
     "autoexec": {
      "startup": false,
      "wait_interval": 0
     },
     "base_uri": "https://localhost:8080/",
     "height": 459,
     "output_extras": [
      {
       "item_id": 1
      }
     ]
    },
    "colab_type": "code",
    "executionInfo": {
     "elapsed": 922,
     "status": "ok",
     "timestamp": 1512399024742,
     "user": {
      "displayName": "Sirakorn Lamyai",
      "photoUrl": "//lh4.googleusercontent.com/-wZrHO4ylioI/AAAAAAAAAAI/AAAAAAAAiTI/MHjf1ZzXuz0/s50-c-k-no/photo.jpg",
      "userId": "112598566285839351739"
     },
     "user_tz": -420
    },
    "id": "xQ4dM03vhDcG",
    "outputId": "e0611106-b88b-4081-8ab9-866590b297a7"
   },
   "outputs": [
    {
     "data": {
      "text/plain": [
       "array([0. , 0.1, 0.2, 0.3, 0.4, 1. , 1.1, 1.2, 1.3, 1.4, 2. , 2.1, 2.2,\n",
       "       2.3, 2.4, 3. , 3.1, 3.2, 3.3, 3.4, 4. , 4.1, 4.2, 4.3, 4.4])"
      ]
     },
     "execution_count": 31,
     "metadata": {},
     "output_type": "execute_result"
    }
   ],
   "source": [
    "mat_b.ravel()"
   ]
  },
  {
   "cell_type": "markdown",
   "metadata": {},
   "source": [
    "__Challenging question__: NumPy offers a `flat` attribute ([check out the docs](https://docs.scipy.org/doc/numpy/reference/generated/numpy.ndarray.flat.html)). What are the differences between `flat` and `ravel()`?"
   ]
  },
  {
   "cell_type": "markdown",
   "metadata": {
    "colab_type": "text",
    "id": "g1m7k4zHeZRX"
   },
   "source": [
    "# NumPy mathematical functions\n",
    "\n",
    "NumPy comes with many mathematical functions, for example, given the matrix $M$ and $N$:"
   ]
  },
  {
   "cell_type": "code",
   "execution_count": 32,
   "metadata": {
    "colab": {
     "autoexec": {
      "startup": false,
      "wait_interval": 0
     },
     "base_uri": "https://localhost:8080/",
     "height": 70,
     "output_extras": [
      {
       "item_id": 1
      }
     ]
    },
    "colab_type": "code",
    "executionInfo": {
     "elapsed": 872,
     "status": "ok",
     "timestamp": 1512399026934,
     "user": {
      "displayName": "Sirakorn Lamyai",
      "photoUrl": "//lh4.googleusercontent.com/-wZrHO4ylioI/AAAAAAAAAAI/AAAAAAAAiTI/MHjf1ZzXuz0/s50-c-k-no/photo.jpg",
      "userId": "112598566285839351739"
     },
     "user_tz": -420
    },
    "id": "D7SYJq6c-Nr_",
    "outputId": "369c6930-a424-4023-948a-64b8e555ab76"
   },
   "outputs": [
    {
     "data": {
      "text/plain": [
       "array([[10, 10, 10],\n",
       "       [10, 10, 10],\n",
       "       [10, 10, 10]])"
      ]
     },
     "execution_count": 32,
     "metadata": {},
     "output_type": "execute_result"
    }
   ],
   "source": [
    "mat_m = numpy.array([\n",
    "    [1, 2, 3],\n",
    "    [4, 5, 6],\n",
    "    [7, 8, 9]\n",
    "])\n",
    "# m = numpy.arange(9).reshape((3, 3))+1\n",
    "\n",
    "mat_n = numpy.array([\n",
    "    [9, 8, 7],\n",
    "    [6, 5, 4],\n",
    "    [3, 2, 1]\n",
    "])\n",
    "# n = numpy.arange(9, -1, -1).reshape((3, 3))\n",
    "\n",
    "numpy.add(mat_m, mat_n)"
   ]
  },
  {
   "cell_type": "code",
   "execution_count": 33,
   "metadata": {
    "colab": {
     "autoexec": {
      "startup": false,
      "wait_interval": 0
     },
     "base_uri": "https://localhost:8080/",
     "height": 123,
     "output_extras": [
      {
       "item_id": 1
      }
     ]
    },
    "colab_type": "code",
    "executionInfo": {
     "elapsed": 757,
     "status": "ok",
     "timestamp": 1512399027847,
     "user": {
      "displayName": "Sirakorn Lamyai",
      "photoUrl": "//lh4.googleusercontent.com/-wZrHO4ylioI/AAAAAAAAAAI/AAAAAAAAiTI/MHjf1ZzXuz0/s50-c-k-no/photo.jpg",
      "userId": "112598566285839351739"
     },
     "user_tz": -420
    },
    "id": "_hxKtWFs_izJ",
    "outputId": "ccca25d7-b102-43fe-ed7e-ee2c5f7045ae"
   },
   "outputs": [
    {
     "name": "stdout",
     "output_type": "stream",
     "text": [
      "[ 0.00000000e+00  5.87785252e-01  9.51056516e-01  9.51056516e-01\n",
      "  5.87785252e-01  1.22464680e-16 -5.87785252e-01 -9.51056516e-01\n",
      " -9.51056516e-01 -5.87785252e-01 -2.44929360e-16  5.87785252e-01\n",
      "  9.51056516e-01  9.51056516e-01  5.87785252e-01  3.67394040e-16\n",
      " -5.87785252e-01 -9.51056516e-01 -9.51056516e-01 -5.87785252e-01\n",
      " -4.89858720e-16]\n"
     ]
    }
   ],
   "source": [
    "o = numpy.arange(0, 4.1, 0.2) * numpy.pi\n",
    "# o = [0, 0.2*pi, 0.4*pi, ..., 2*pi]\n",
    "\n",
    "sin_values = numpy.sin(o)\n",
    "print(sin_values)"
   ]
  },
  {
   "cell_type": "code",
   "execution_count": 34,
   "metadata": {
    "colab": {
     "autoexec": {
      "startup": false,
      "wait_interval": 0
     },
     "base_uri": "https://localhost:8080/",
     "height": 388,
     "output_extras": [
      {
       "item_id": 1
      }
     ]
    },
    "colab_type": "code",
    "executionInfo": {
     "elapsed": 676,
     "status": "ok",
     "timestamp": 1512399028686,
     "user": {
      "displayName": "Sirakorn Lamyai",
      "photoUrl": "//lh4.googleusercontent.com/-wZrHO4ylioI/AAAAAAAAAAI/AAAAAAAAiTI/MHjf1ZzXuz0/s50-c-k-no/photo.jpg",
      "userId": "112598566285839351739"
     },
     "user_tz": -420
    },
    "id": "bJA4Ao_v_pLx",
    "outputId": "285fd27d-3f31-42e2-d1d8-f51e492471ef"
   },
   "outputs": [
    {
     "name": "stdout",
     "output_type": "stream",
     "text": [
      "     *\n",
      "       *\n",
      "         *\n",
      "         *\n",
      "       *\n",
      "     *\n",
      "   *\n",
      " *\n",
      " *\n",
      "   *\n",
      "     *\n",
      "       *\n",
      "         *\n",
      "         *\n",
      "       *\n",
      "     *\n",
      "   *\n",
      " *\n",
      " *\n",
      "   *\n",
      "     *\n"
     ]
    }
   ],
   "source": [
    "for sin_value in sin_values:\n",
    "    print(\" \"*(int(sin_value*5)+5) + \"*\")\n",
    "  \n",
    "# This is some sin graph printing!"
   ]
  },
  {
   "cell_type": "markdown",
   "metadata": {
    "colab_type": "text",
    "id": "Nrf4Syqw8K_Q"
   },
   "source": [
    "We call those functions as __universal functions__. Some common universal functions are\n",
    "\n",
    "* `add`\n",
    "* `subtract`\n",
    "* `multiply`\n",
    "* `divide`\n",
    "* `mod`\n",
    "* `sqrt`\n",
    "* `sin`\n",
    "* `cos`\n",
    "* `tan`\n",
    "* `arcsin`\n",
    "* `arccos`\n",
    "* `arctan`\n",
    "\n",
    "Check out the complete list of universal functions [here](https://docs.scipy.org/doc/numpy-1.13.0/reference/ufuncs.html#available-ufuncs)."
   ]
  },
  {
   "cell_type": "markdown",
   "metadata": {
    "colab_type": "text",
    "id": "3tm-LIYQiCMT"
   },
   "source": [
    "## Matrix Functions\n",
    "\n",
    "As we can represent matrices with NumPy arrays, let's use this time to demostrate the library's capabilities.\n",
    "\n",
    "We generate some matrix representing some random numbers."
   ]
  },
  {
   "cell_type": "code",
   "execution_count": 35,
   "metadata": {
    "colab": {
     "autoexec": {
      "startup": false,
      "wait_interval": 0
     }
    },
    "colab_type": "code",
    "id": "ll9yYtdiiDov"
   },
   "outputs": [],
   "source": [
    "# สร้างเมทริกซ์เลขสุ่มของ [0, 1) ขนาด 4*4, คูณด้วย 10 แล้วแปลงเป็น int ทั้งหมด\n",
    "\n",
    "mat_m = (numpy.random.rand(4,4)*10).astype(int)\n",
    "mat_n = (numpy.random.rand(4,4)*10).astype(int)"
   ]
  },
  {
   "cell_type": "code",
   "execution_count": 36,
   "metadata": {
    "colab": {
     "autoexec": {
      "startup": false,
      "wait_interval": 0
     },
     "base_uri": "https://localhost:8080/",
     "height": 88,
     "output_extras": [
      {
       "item_id": 1
      }
     ]
    },
    "colab_type": "code",
    "executionInfo": {
     "elapsed": 667,
     "status": "ok",
     "timestamp": 1512399030507,
     "user": {
      "displayName": "Sirakorn Lamyai",
      "photoUrl": "//lh4.googleusercontent.com/-wZrHO4ylioI/AAAAAAAAAAI/AAAAAAAAiTI/MHjf1ZzXuz0/s50-c-k-no/photo.jpg",
      "userId": "112598566285839351739"
     },
     "user_tz": -420
    },
    "id": "CfCOL75piobm",
    "outputId": "dc9e9056-5fdb-4da2-90f3-6556ea8a31e8"
   },
   "outputs": [
    {
     "data": {
      "text/plain": [
       "array([[5, 3, 0, 2],\n",
       "       [1, 8, 4, 5],\n",
       "       [5, 4, 5, 1],\n",
       "       [3, 6, 7, 1]])"
      ]
     },
     "execution_count": 36,
     "metadata": {},
     "output_type": "execute_result"
    }
   ],
   "source": [
    "mat_m"
   ]
  },
  {
   "cell_type": "code",
   "execution_count": 37,
   "metadata": {
    "colab": {
     "autoexec": {
      "startup": false,
      "wait_interval": 0
     },
     "base_uri": "https://localhost:8080/",
     "height": 88,
     "output_extras": [
      {
       "item_id": 1
      }
     ]
    },
    "colab_type": "code",
    "executionInfo": {
     "elapsed": 892,
     "status": "ok",
     "timestamp": 1512399031527,
     "user": {
      "displayName": "Sirakorn Lamyai",
      "photoUrl": "//lh4.googleusercontent.com/-wZrHO4ylioI/AAAAAAAAAAI/AAAAAAAAiTI/MHjf1ZzXuz0/s50-c-k-no/photo.jpg",
      "userId": "112598566285839351739"
     },
     "user_tz": -420
    },
    "id": "eu9ueaUgipWO",
    "outputId": "ef790aa9-f88b-4b60-a14c-99d7d4432f64"
   },
   "outputs": [
    {
     "data": {
      "text/plain": [
       "array([[5, 9, 1, 0],\n",
       "       [1, 6, 3, 9],\n",
       "       [8, 8, 8, 4],\n",
       "       [6, 4, 4, 6]])"
      ]
     },
     "execution_count": 37,
     "metadata": {},
     "output_type": "execute_result"
    }
   ],
   "source": [
    "mat_n"
   ]
  },
  {
   "cell_type": "markdown",
   "metadata": {
    "colab_type": "text",
    "id": "2gywzdmOjLPs"
   },
   "source": [
    "We can reshape the matrix into the desired shape wth the `reshape()` method..."
   ]
  },
  {
   "cell_type": "code",
   "execution_count": 38,
   "metadata": {
    "colab": {
     "autoexec": {
      "startup": false,
      "wait_interval": 0
     },
     "base_uri": "https://localhost:8080/",
     "height": 158,
     "output_extras": [
      {
       "item_id": 1
      }
     ]
    },
    "colab_type": "code",
    "executionInfo": {
     "elapsed": 677,
     "status": "ok",
     "timestamp": 1512399032529,
     "user": {
      "displayName": "Sirakorn Lamyai",
      "photoUrl": "//lh4.googleusercontent.com/-wZrHO4ylioI/AAAAAAAAAAI/AAAAAAAAiTI/MHjf1ZzXuz0/s50-c-k-no/photo.jpg",
      "userId": "112598566285839351739"
     },
     "user_tz": -420
    },
    "id": "oCKGEIcLjQte",
    "outputId": "cf6fa268-a3b6-48a4-bbee-5fbc9d6aead5"
   },
   "outputs": [
    {
     "data": {
      "text/plain": [
       "array([[5, 3],\n",
       "       [0, 2],\n",
       "       [1, 8],\n",
       "       [4, 5],\n",
       "       [5, 4],\n",
       "       [5, 1],\n",
       "       [3, 6],\n",
       "       [7, 1]])"
      ]
     },
     "execution_count": 38,
     "metadata": {},
     "output_type": "execute_result"
    }
   ],
   "source": [
    "mat_m.reshape(8, 2)"
   ]
  },
  {
   "cell_type": "markdown",
   "metadata": {
    "colab_type": "text",
    "id": "M3lM57z-jUNx"
   },
   "source": [
    "and transpose the matrix with the `.T` property."
   ]
  },
  {
   "cell_type": "code",
   "execution_count": 39,
   "metadata": {
    "colab": {
     "autoexec": {
      "startup": false,
      "wait_interval": 0
     },
     "base_uri": "https://localhost:8080/",
     "height": 88,
     "output_extras": [
      {
       "item_id": 1
      }
     ]
    },
    "colab_type": "code",
    "executionInfo": {
     "elapsed": 689,
     "status": "ok",
     "timestamp": 1512399033410,
     "user": {
      "displayName": "Sirakorn Lamyai",
      "photoUrl": "//lh4.googleusercontent.com/-wZrHO4ylioI/AAAAAAAAAAI/AAAAAAAAiTI/MHjf1ZzXuz0/s50-c-k-no/photo.jpg",
      "userId": "112598566285839351739"
     },
     "user_tz": -420
    },
    "id": "5Wd84FvMjZn-",
    "outputId": "5e8d2f6f-a74d-4e05-dc82-2a656a300b47"
   },
   "outputs": [
    {
     "data": {
      "text/plain": [
       "array([[5, 1, 5, 3],\n",
       "       [3, 8, 4, 6],\n",
       "       [0, 4, 5, 7],\n",
       "       [2, 5, 1, 1]])"
      ]
     },
     "execution_count": 39,
     "metadata": {},
     "output_type": "execute_result"
    }
   ],
   "source": [
    "mat_m.T"
   ]
  },
  {
   "cell_type": "markdown",
   "metadata": {
    "colab_type": "text",
    "id": "Lb-MAG8XkDJV"
   },
   "source": [
    "## Matrix multiplication\n",
    "\n",
    "The multiplication of `mat_m * mat_n` will yields the result of element-wise multiplication. ($(M*N)_{ij} = M_{ij} \\times N_{ij}$)"
   ]
  },
  {
   "cell_type": "code",
   "execution_count": 40,
   "metadata": {
    "colab": {
     "autoexec": {
      "startup": false,
      "wait_interval": 0
     },
     "base_uri": "https://localhost:8080/",
     "height": 88,
     "output_extras": [
      {
       "item_id": 1
      }
     ]
    },
    "colab_type": "code",
    "executionInfo": {
     "elapsed": 756,
     "status": "ok",
     "timestamp": 1512399034402,
     "user": {
      "displayName": "Sirakorn Lamyai",
      "photoUrl": "//lh4.googleusercontent.com/-wZrHO4ylioI/AAAAAAAAAAI/AAAAAAAAiTI/MHjf1ZzXuz0/s50-c-k-no/photo.jpg",
      "userId": "112598566285839351739"
     },
     "user_tz": -420
    },
    "id": "zBhx2PM9kZQ4",
    "outputId": "2e535a5e-624b-4254-b0cb-2faca6ff5d5e"
   },
   "outputs": [
    {
     "data": {
      "text/plain": [
       "array([[25, 27,  0,  0],\n",
       "       [ 1, 48, 12, 45],\n",
       "       [40, 32, 40,  4],\n",
       "       [18, 24, 28,  6]])"
      ]
     },
     "execution_count": 40,
     "metadata": {},
     "output_type": "execute_result"
    }
   ],
   "source": [
    "mat_m * mat_n"
   ]
  },
  {
   "cell_type": "markdown",
   "metadata": {
    "colab_type": "text",
    "id": "rPE_UrcEkcIb"
   },
   "source": [
    "NumPy offers a `numpy.dot()` function for matrix multiplication."
   ]
  },
  {
   "cell_type": "code",
   "execution_count": 41,
   "metadata": {
    "colab": {
     "autoexec": {
      "startup": false,
      "wait_interval": 0
     },
     "base_uri": "https://localhost:8080/",
     "height": 88,
     "output_extras": [
      {
       "item_id": 1
      }
     ]
    },
    "colab_type": "code",
    "executionInfo": {
     "elapsed": 725,
     "status": "ok",
     "timestamp": 1512399035282,
     "user": {
      "displayName": "Sirakorn Lamyai",
      "photoUrl": "//lh4.googleusercontent.com/-wZrHO4ylioI/AAAAAAAAAAI/AAAAAAAAiTI/MHjf1ZzXuz0/s50-c-k-no/photo.jpg",
      "userId": "112598566285839351739"
     },
     "user_tz": -420
    },
    "id": "31Z7WvPeke9f",
    "outputId": "cda012d4-6a15-45e9-b791-73f2707e6270"
   },
   "outputs": [
    {
     "data": {
      "text/plain": [
       "array([[ 40,  71,  22,  39],\n",
       "       [ 75, 109,  77, 118],\n",
       "       [ 75, 113,  61,  62],\n",
       "       [ 83, 123,  81,  88]])"
      ]
     },
     "execution_count": 41,
     "metadata": {},
     "output_type": "execute_result"
    }
   ],
   "source": [
    "numpy.dot(mat_m, mat_n)"
   ]
  },
  {
   "cell_type": "markdown",
   "metadata": {
    "colab_type": "text",
    "id": "POEHfhWSk1d-"
   },
   "source": [
    "Also the exists `numpy.cross()` for __vector__ cross product."
   ]
  },
  {
   "cell_type": "code",
   "execution_count": 42,
   "metadata": {
    "colab": {
     "autoexec": {
      "startup": false,
      "wait_interval": 0
     },
     "base_uri": "https://localhost:8080/",
     "height": 35,
     "output_extras": [
      {
       "item_id": 1
      }
     ]
    },
    "colab_type": "code",
    "executionInfo": {
     "elapsed": 653,
     "status": "ok",
     "timestamp": 1512399036194,
     "user": {
      "displayName": "Sirakorn Lamyai",
      "photoUrl": "//lh4.googleusercontent.com/-wZrHO4ylioI/AAAAAAAAAAI/AAAAAAAAiTI/MHjf1ZzXuz0/s50-c-k-no/photo.jpg",
      "userId": "112598566285839351739"
     },
     "user_tz": -420
    },
    "id": "PVdZS-gZkwkU",
    "outputId": "49f64ab7-b2c3-4dbe-c151-d6345e3ecc26"
   },
   "outputs": [
    {
     "data": {
      "text/plain": [
       "array([-1,  2, -1])"
      ]
     },
     "execution_count": 42,
     "metadata": {},
     "output_type": "execute_result"
    }
   ],
   "source": [
    "numpy.cross(vec_u, vec_v)"
   ]
  },
  {
   "cell_type": "markdown",
   "metadata": {
    "colab_type": "text",
    "id": "h9iihxO6lGMh"
   },
   "source": [
    "### Determinants and Inverses"
   ]
  },
  {
   "cell_type": "markdown",
   "metadata": {
    "colab_type": "text",
    "id": "GbtMcettlfl2"
   },
   "source": [
    "NumPy has a sub-library so called `numpy.linalg` for linear algebra tasks. For example, ones could calculate the determinant and the inverse of a matrix with `numpy.linalg.det()` and `numpy.linalg.inv()` respectively."
   ]
  },
  {
   "cell_type": "code",
   "execution_count": 43,
   "metadata": {
    "colab": {
     "autoexec": {
      "startup": false,
      "wait_interval": 0
     },
     "base_uri": "https://localhost:8080/",
     "height": 35,
     "output_extras": [
      {
       "item_id": 1
      }
     ]
    },
    "colab_type": "code",
    "executionInfo": {
     "elapsed": 708,
     "status": "ok",
     "timestamp": 1512399037041,
     "user": {
      "displayName": "Sirakorn Lamyai",
      "photoUrl": "//lh4.googleusercontent.com/-wZrHO4ylioI/AAAAAAAAAAI/AAAAAAAAiTI/MHjf1ZzXuz0/s50-c-k-no/photo.jpg",
      "userId": "112598566285839351739"
     },
     "user_tz": -420
    },
    "id": "tZAmFgVzlboX",
    "outputId": "e0111536-eb3e-47c6-da0c-a27a1698d41a"
   },
   "outputs": [
    {
     "data": {
      "text/plain": [
       "-180.0"
      ]
     },
     "execution_count": 43,
     "metadata": {},
     "output_type": "execute_result"
    }
   ],
   "source": [
    "numpy.linalg.det(mat_m)"
   ]
  },
  {
   "cell_type": "code",
   "execution_count": 44,
   "metadata": {
    "colab": {
     "autoexec": {
      "startup": false,
      "wait_interval": 0
     },
     "base_uri": "https://localhost:8080/",
     "height": 88,
     "output_extras": [
      {
       "item_id": 1
      }
     ]
    },
    "colab_type": "code",
    "executionInfo": {
     "elapsed": 760,
     "status": "ok",
     "timestamp": 1512399037957,
     "user": {
      "displayName": "Sirakorn Lamyai",
      "photoUrl": "//lh4.googleusercontent.com/-wZrHO4ylioI/AAAAAAAAAAI/AAAAAAAAiTI/MHjf1ZzXuz0/s50-c-k-no/photo.jpg",
      "userId": "112598566285839351739"
     },
     "user_tz": -420
    },
    "id": "c-6qNqlZlnNt",
    "outputId": "0eee5f51-4fdf-4a93-d494-9c5eb0bcd3b1"
   },
   "outputs": [
    {
     "data": {
      "text/plain": [
       "array([[ 0.1       , -0.05555556,  0.16111111, -0.08333333],\n",
       "       [ 0.5       , -0.16666667, -0.91666667,  0.75      ],\n",
       "       [-0.4       ,  0.11111111,  0.57777778, -0.33333333],\n",
       "       [-0.5       ,  0.38888889,  0.97222222, -0.91666667]])"
      ]
     },
     "execution_count": 44,
     "metadata": {},
     "output_type": "execute_result"
    }
   ],
   "source": [
    "numpy.linalg.inv(mat_m)"
   ]
  },
  {
   "cell_type": "code",
   "execution_count": null,
   "metadata": {
    "colab": {
     "autoexec": {
      "startup": false,
      "wait_interval": 0
     },
     "base_uri": "https://localhost:8080/",
     "height": 158,
     "output_extras": [
      {
       "item_id": 1
      }
     ]
    },
    "colab_type": "code",
    "executionInfo": {
     "elapsed": 995,
     "status": "ok",
     "timestamp": 1512399039071,
     "user": {
      "displayName": "Sirakorn Lamyai",
      "photoUrl": "//lh4.googleusercontent.com/-wZrHO4ylioI/AAAAAAAAAAI/AAAAAAAAiTI/MHjf1ZzXuz0/s50-c-k-no/photo.jpg",
      "userId": "112598566285839351739"
     },
     "user_tz": -420
    },
    "id": "CfWYQJbnlqGg",
    "outputId": "e9bbbe53-cba7-4011-960d-7f0ead306d33"
   },
   "outputs": [],
   "source": [
    "numpy.dot(mat_m, numpy.linalg.inv(mat_m))\n",
    "# Very nearby to an indentity matrix,\n",
    "# values comes with a slight error due to how computers\n",
    "# store decimal points."
   ]
  }
 ],
 "metadata": {
  "colab": {
   "collapsed_sections": [
    "Lb-MAG8XkDJV",
    "h9iihxO6lGMh"
   ],
   "default_view": {},
   "name": "basic_numpy.ipynb",
   "provenance": [],
   "version": "0.3.2",
   "views": {}
  },
  "kernelspec": {
   "display_name": "Python 3",
   "language": "python",
   "name": "python3"
  },
  "language_info": {
   "codemirror_mode": {
    "name": "ipython",
    "version": 3
   },
   "file_extension": ".py",
   "mimetype": "text/x-python",
   "name": "python",
   "nbconvert_exporter": "python",
   "pygments_lexer": "ipython3",
   "version": "3.6.8"
  }
 },
 "nbformat": 4,
 "nbformat_minor": 1
}
